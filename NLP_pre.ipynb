{
 "cells": [
  {
   "cell_type": "code",
   "execution_count": null,
   "metadata": {},
   "outputs": [
    {
     "name": "stdout",
     "output_type": "stream",
     "text": [
      "['A paragraph is a series of sentences that are organized and coherent, and are all related to a single topic.', 'Almost every piece of writing you do that is longer than a few sentences should be organized into paragraphs.', 'This is because paragraphs show a reader where the subdivisions of an essay begin and end, and thus help the reader see the organization of the essay and grasp its main points.']\n"
     ]
    }
   ],
   "source": [
    "corpus = \"\"\"A paragraph is a series of sentences that are organized and coherent, and are all related to a single topic. Almost every piece of writing you do that is longer than a few sentences should be organized into paragraphs. This is because paragraphs show a reader where the subdivisions of an essay begin and end, and thus help the reader see the organization of the essay and grasp its main points.\n",
    "\"\"\"\n",
    "\n",
    "# Tokenize into sentences\n",
    "sentences = nltk.sent_tokenize(corpus)\n",
    "print(sentences)"
   ]
  },
  {
   "cell_type": "code",
   "execution_count": 30,
   "metadata": {},
   "outputs": [],
   "source": [
    "from nltk.tokenize import word_tokenize"
   ]
  },
  {
   "cell_type": "code",
   "execution_count": 31,
   "metadata": {},
   "outputs": [
    {
     "data": {
      "text/plain": [
       "['A',\n",
       " 'paragraph',\n",
       " 'is',\n",
       " 'a',\n",
       " 'series',\n",
       " 'of',\n",
       " 'sentences',\n",
       " 'that',\n",
       " 'are',\n",
       " 'organized',\n",
       " 'and',\n",
       " 'coherent',\n",
       " ',',\n",
       " 'and',\n",
       " 'are',\n",
       " 'all',\n",
       " 'related',\n",
       " 'to',\n",
       " 'a',\n",
       " 'single',\n",
       " 'topic',\n",
       " '.',\n",
       " 'Almost',\n",
       " 'every',\n",
       " 'piece',\n",
       " 'of',\n",
       " 'writing',\n",
       " 'you',\n",
       " 'do',\n",
       " 'that',\n",
       " 'is',\n",
       " 'longer',\n",
       " 'than',\n",
       " 'a',\n",
       " 'few',\n",
       " 'sentences',\n",
       " 'should',\n",
       " 'be',\n",
       " 'organized',\n",
       " 'into',\n",
       " 'paragraphs',\n",
       " '.',\n",
       " 'This',\n",
       " 'is',\n",
       " 'because',\n",
       " 'paragraphs',\n",
       " 'show',\n",
       " 'a',\n",
       " 'reader',\n",
       " 'where',\n",
       " 'the',\n",
       " 'subdivisions',\n",
       " 'of',\n",
       " 'an',\n",
       " 'essay',\n",
       " 'begin',\n",
       " 'and',\n",
       " 'end',\n",
       " ',',\n",
       " 'and',\n",
       " 'thus',\n",
       " 'help',\n",
       " 'the',\n",
       " 'reader',\n",
       " 'see',\n",
       " 'the',\n",
       " 'organization',\n",
       " 'of',\n",
       " 'the',\n",
       " 'essay',\n",
       " 'and',\n",
       " 'grasp',\n",
       " 'its',\n",
       " 'main',\n",
       " 'points',\n",
       " '.']"
      ]
     },
     "execution_count": 31,
     "metadata": {},
     "output_type": "execute_result"
    }
   ],
   "source": [
    "word_tokenize(corpus)"
   ]
  },
  {
   "cell_type": "code",
   "execution_count": null,
   "metadata": {},
   "outputs": [],
   "source": [
    "\"\"\"\n",
    "import nltk\n",
    "\n",
    "# Download all NLTK data\n",
    "nltk.download('all')\"\"\""
   ]
  },
  {
   "cell_type": "code",
   "execution_count": null,
   "metadata": {},
   "outputs": [],
   "source": []
  },
  {
   "cell_type": "code",
   "execution_count": null,
   "metadata": {},
   "outputs": [],
   "source": []
  },
  {
   "cell_type": "code",
   "execution_count": null,
   "metadata": {},
   "outputs": [],
   "source": []
  },
  {
   "cell_type": "code",
   "execution_count": null,
   "metadata": {},
   "outputs": [],
   "source": []
  }
 ],
 "metadata": {
  "kernelspec": {
   "display_name": "Python 3",
   "language": "python",
   "name": "python3"
  },
  "language_info": {
   "codemirror_mode": {
    "name": "ipython",
    "version": 3
   },
   "file_extension": ".py",
   "mimetype": "text/x-python",
   "name": "python",
   "nbconvert_exporter": "python",
   "pygments_lexer": "ipython3",
   "version": "3.12.3"
  }
 },
 "nbformat": 4,
 "nbformat_minor": 2
}
